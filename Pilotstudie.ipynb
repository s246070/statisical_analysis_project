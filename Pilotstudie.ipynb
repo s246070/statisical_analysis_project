{
 "cells": [
  {
   "cell_type": "code",
   "execution_count": 1,
   "id": "4a1d5303",
   "metadata": {},
   "outputs": [],
   "source": [
    "punkt1 = [-5.0,-6.19]\n",
    "punkt2 = [-4.75,-5.48]\n",
    "punkt3 = [-5.5,-5.83]\n",
    "punkt4 = [-4.75, -5.48]\n",
    "punkt5 = [-4.75, -5.48]\n",
    "punkt6 = [-4.5, -5.36]\n",
    "punkt7 = [-5.25, -5.48]\n",
    "punkt8 = [-4.75, -5.48]"
   ]
  },
  {
   "cell_type": "code",
   "execution_count": 2,
   "id": "1144c5db",
   "metadata": {},
   "outputs": [],
   "source": [
    "Economics = [punkt1[0], punkt2[0], punkt3[0], punkt4[0], punkt5[0], punkt6[0], punkt7[0], punkt8[0]]\n",
    "Social = [punkt1[1], punkt2[1], punkt3[1], punkt4[1], punkt5[1], punkt6[1], punkt7[1], punkt8[1]]"
   ]
  },
  {
   "cell_type": "code",
   "execution_count": 3,
   "id": "65ef7599",
   "metadata": {},
   "outputs": [
    {
     "name": "stdout",
     "output_type": "stream",
     "text": [
      "Mean Economics: -4.90625\n",
      "Mean Social: -5.5975\n",
      "Standard Deviation Economics: 0.3045873232752801\n",
      "Standard Deviation Social: 0.2575242707008409\n"
     ]
    }
   ],
   "source": [
    "Mean_Economics = sum(Economics) / len(Economics)\n",
    "Mean_Social = sum(Social) / len(Social)\n",
    "print(\"Mean Economics:\", Mean_Economics)\n",
    "print(\"Mean Social:\", Mean_Social)\n",
    "\n",
    "standard_deviation_Economics = (sum((x - Mean_Economics) ** 2 for x in Economics) / len(Economics)) ** 0.5\n",
    "standard_deviation_Social = (sum((x - Mean_Social) ** 2 for x in Social) / len(Social)) ** 0.5\n",
    "print(\"Standard Deviation Economics:\", standard_deviation_Economics)\n",
    "print(\"Standard Deviation Social:\", standard_deviation_Social)"
   ]
  },
  {
   "cell_type": "code",
   "execution_count": 4,
   "id": "1a5fdb94",
   "metadata": {},
   "outputs": [
    {
     "name": "stdout",
     "output_type": "stream",
     "text": [
      "35.63984374999999\n"
     ]
    }
   ],
   "source": [
    "z = 1.96 # Z-score for 95% confidence level\n",
    "margin_of_error = 0.1 # Desired margin of error\n",
    "\n",
    "n = ((z * standard_deviation_Economics) / margin_of_error)** 2\n",
    "\n",
    "print(n)"
   ]
  }
 ],
 "metadata": {
  "kernelspec": {
   "display_name": "IntelligentSystems",
   "language": "python",
   "name": "python3"
  },
  "language_info": {
   "codemirror_mode": {
    "name": "ipython",
    "version": 3
   },
   "file_extension": ".py",
   "mimetype": "text/x-python",
   "name": "python",
   "nbconvert_exporter": "python",
   "pygments_lexer": "ipython3",
   "version": "3.12.5"
  }
 },
 "nbformat": 4,
 "nbformat_minor": 5
}
